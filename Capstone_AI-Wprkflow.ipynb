{
 "cells": [
  {
   "cell_type": "markdown",
   "metadata": {},
   "source": [
    "### Data Ingestion made as a script to automate the process.\n",
    "### Provide the data path with single or multiple json files and it will load and combine the \n",
    "### Files in single Python DataFrame"
   ]
  },
  {
   "cell_type": "code",
   "execution_count": null,
   "metadata": {},
   "outputs": [],
   "source": [
    "import os\n",
    "import sys\n",
    "import getopt\n",
    "import scipy.stats as stats\n",
    "import pandas as pd\n",
    "import numpy as np\n",
    "import sqlite3\n",
    "import json\n",
    "from pandas.io.json import json_normalize\n",
    "import string\n",
    "import re\n",
    "\n",
    "\n",
    "def ingest_stream_data(file_path):\n",
    "    \"\"\"\n",
    "    load and combine the stream data\n",
    "    \"\"\"\n",
    "    os.chdir(file_path)\n",
    "    \n",
    "    List_Files = os.listdir(file_path)\n",
    "    \n",
    "    \n",
    "    df_streams = []\n",
    "    df_temp = []\n",
    "    \n",
    "    for file in List_Files:\n",
    "        \n",
    "        #print(file)\n",
    "        str = file_path + '\\\\' + file\n",
    "        #print(str)\n",
    "                        \n",
    "        df_temp = pd.read_json(str)\n",
    "        df_temp.rename(columns = {'price':'total_price'}, inplace = True)\n",
    "        df_temp.rename(columns = {'TimesViewed':'times_viewed'}, inplace = True)\n",
    "        df_temp.rename(columns = {'StreamID':'stream_id'}, inplace = True)\n",
    "        \n",
    "        \n",
    "        \n",
    "        print(df_temp)\n",
    "        \n",
    "        df_streams.append(df_temp)\n",
    "                  \n",
    "    \n",
    "    df_streams = pd.concat(df_streams, sort=True)\n",
    "        \n",
    "    print(df_streams)\n",
    "    \n",
    "    df_streams['stream_id'] = df_streams['stream_id'].str.extract(r'(\\d+)', expand=False)\n",
    "    df_streams['stream_id'].astype(int)\n",
    "    return(df_streams)\n"
   ]
  },
  {
   "cell_type": "code",
   "execution_count": null,
   "metadata": {},
   "outputs": [],
   "source": [
    "df_main = ingest_stream_data('C:\\\\Nilabja\\\\Supportive Docs and Material\\\\Badge and Training\\\\AI Workflow Specialization\\\\capctone\\\\ai-workflow-capstone-master\\\\ai-workflow-capstone-master\\\\cs-train')\n",
    "os.chdir('C:\\\\Nilabja\\\\Supportive Docs and Material\\\\Badge and Training\\\\AI Workflow Specialization\\\\capctone\\\\ai-workflow-capstone-master\\\\ai-workflow-capstone-master')\n",
    "\n",
    "df_main.to_csv('file1.csv')"
   ]
  },
  {
   "cell_type": "code",
   "execution_count": null,
   "metadata": {},
   "outputs": [],
   "source": [
    "df_main.describe()\n",
    "df_main.isnull().sum()\n",
    "df_main.info()\n",
    "df_rev = df_main.groupby('country')['total_price'].sum().reset_index()\n",
    "df_rev = df_rev.sort_values(by=['total_price'], ascending= False)\n",
    "print(df_rev)"
   ]
  },
  {
   "cell_type": "code",
   "execution_count": null,
   "metadata": {},
   "outputs": [],
   "source": [
    "df_reorder=df_main[['country', 'customer_id', 'invoice', 'total_price', 'stream_id', 'times_viewed', 'year', 'month', 'day']]\n",
    "df_reorder "
   ]
  },
  {
   "cell_type": "code",
   "execution_count": null,
   "metadata": {},
   "outputs": [],
   "source": [
    "df_reorder['Date']=pd.to_datetime(df_reorder[['year','month','day']])\n",
    "df_reorder\n"
   ]
  },
  {
   "cell_type": "code",
   "execution_count": null,
   "metadata": {},
   "outputs": [],
   "source": [
    "df_reorder.groupby(df_reorder['Date'].dt.strftime('%B'))['total_price'].sum().sort_values()"
   ]
  },
  {
   "cell_type": "code",
   "execution_count": null,
   "metadata": {},
   "outputs": [],
   "source": [
    "df_reorder['year_month'] = df_reorder['Date'].dt.strftime('%Y-%m')\n",
    "df_reorder"
   ]
  },
  {
   "cell_type": "code",
   "execution_count": null,
   "metadata": {},
   "outputs": [],
   "source": [
    "df_price = df_reorder.groupby(['country', 'year_month'])['total_price'].sum().reset_index()\n",
    "#df_price = df_rev.sort_values(by=['total_price'], ascending= False)\n",
    "print(df_price)"
   ]
  },
  {
   "cell_type": "code",
   "execution_count": null,
   "metadata": {},
   "outputs": [],
   "source": [
    "df_C_AUS = df_price[df_price['country'] == 'Australia']\n",
    "df_C_AUS"
   ]
  },
  {
   "cell_type": "code",
   "execution_count": null,
   "metadata": {},
   "outputs": [],
   "source": [
    "%matplotlib inline\n",
    "import matplotlib.pyplot as plt\n",
    "plt.style.use('seaborn-whitegrid')\n",
    "import numpy as np\n",
    "\n",
    "#fig = plt.figure()\n",
    "#ax = plt.axes()\n",
    "plt.figure(figsize=(20,10))\n",
    "\n",
    "plt.plot(df_C_AUS['year_month'], df_C_AUS['total_price'])\n",
    "plt.title(\"Price Curve For Australia\")\n",
    "plt.xlabel(\"Month\")\n",
    "plt.ylabel(\"Price\");"
   ]
  },
  {
   "cell_type": "code",
   "execution_count": null,
   "metadata": {},
   "outputs": [],
   "source": [
    "#pd.to_datetime([f'{y}-{m}-01' for y, m in zip(df.year, df.Months)])\n",
    "\n",
    "df_C_AUS_Sales = df_C_AUS[['year_month', 'total_price']]\n",
    "\n",
    "df_C_AUS_Sales['year_month'] = df_C_AUS_Sales['year_month'].astype(str) + '-1'\n",
    "\n",
    "#df_C_AUS_Sales = pd.to_datetime([f'{ym}-01' for ym in df_C_AUS.year_month])\n",
    "\n",
    "#df_C_AUS_Sales.set_index('year_month', inplace=True)\n",
    "#df_C_AUS_Sales.info()\n",
    "#df_C_AUS_Sales = df_C_AUS_Sales.set_index(pd.DatetimeIndex(df_C_AUS_Sales['year_month']))\n",
    "\n",
    "pd.to_datetime(df_C_AUS_Sales['year_month'], format='%Y-%m-%d')\n",
    "df_C_AUS_Sales = df_C_AUS_Sales.set_index('year_month')\n",
    "df_C_AUS_Sales.index = pd.to_datetime(df_C_AUS_Sales.index)\n",
    "df_C_AUS_Sales"
   ]
  },
  {
   "cell_type": "code",
   "execution_count": null,
   "metadata": {},
   "outputs": [],
   "source": [
    "import warnings\n",
    "import itertools\n",
    "import numpy as np\n",
    "import matplotlib.pyplot as plt\n",
    "warnings.filterwarnings(\"ignore\")\n",
    "plt.style.use('fivethirtyeight')\n",
    "import pandas as pd\n",
    "import statsmodels.api as sm\n",
    "import matplotlib\n",
    "matplotlib.rcParams['axes.labelsize'] = 14\n",
    "matplotlib.rcParams['xtick.labelsize'] = 12\n",
    "matplotlib.rcParams['ytick.labelsize'] = 12\n",
    "matplotlib.rcParams['text.color'] = 'k'"
   ]
  },
  {
   "cell_type": "code",
   "execution_count": null,
   "metadata": {},
   "outputs": [],
   "source": [
    "from pylab import rcParams\n",
    "\n",
    "rcParams['figure.figsize'] = 18, 8\n",
    "decomposition = sm.tsa.seasonal_decompose(df_C_AUS_Sales['total_price'], model='additive', freq=3)\n",
    "fig = decomposition.plot()\n",
    "plt.show()\n",
    "#resid = decomposition.resid\n",
    "#seasonal = decomposition.seasonal\n",
    "#trend = decomposition.trend\n",
    "#plt.plot(resid)\n",
    "#plt.plot(seasonal)\n",
    "#plt.plot(trend)"
   ]
  },
  {
   "cell_type": "code",
   "execution_count": null,
   "metadata": {},
   "outputs": [],
   "source": [
    "%matplotlib inline\n",
    "import matplotlib.pyplot as plt\n",
    "plt.style.use('seaborn-whitegrid')\n",
    "import numpy as np\n",
    "\n",
    "#fig = plt.figure()\n",
    "#ax = plt.axes()\n",
    "plt.figure(figsize=(20,10))\n",
    "\n",
    "plt.plot(df_C_AUS['year_month'], df_C_AUS['total_price'])\n",
    "plt.title(\"Price Curve For Australia\")\n",
    "plt.xlabel(\"Month\")\n",
    "plt.ylabel(\"Price\");"
   ]
  },
  {
   "cell_type": "code",
   "execution_count": null,
   "metadata": {},
   "outputs": [],
   "source": [
    "# AR example\n",
    "from statsmodels.tsa.ar_model import AR\n",
    "from random import random\n",
    "# contrived dataset\n",
    "#data = [x + random() for x in range(1, 100)]\n",
    "# fit model\n",
    "model = AR(df_C_AUS_Sales)\n",
    "model_fit = model.fit()\n",
    "# make prediction\n",
    "yhat = model_fit.predict(len(df_C_AUS_Sales), len(df_C_AUS_Sales))\n",
    "print(yhat)\n"
   ]
  },
  {
   "cell_type": "code",
   "execution_count": null,
   "metadata": {},
   "outputs": [],
   "source": [
    "# ARIMA example\n",
    "from statsmodels.tsa.arima_model import ARIMA\n",
    "from random import random\n",
    "# contrived dataset\n",
    "#data = [x + random() for x in range(1, 100)]\n",
    "# fit model\n",
    "model = ARIMA(df_C_AUS_Sales, order=(1, 1, 1))\n",
    "model_fit = model.fit(disp=False)\n",
    "# make prediction\n",
    "yhat = model_fit.predict(len(df_C_AUS_Sales), len(df_C_AUS_Sales), typ='levels')\n",
    "print(yhat)"
   ]
  },
  {
   "cell_type": "code",
   "execution_count": null,
   "metadata": {},
   "outputs": [],
   "source": [
    "df_C_AUS_Sales.index"
   ]
  },
  {
   "cell_type": "code",
   "execution_count": null,
   "metadata": {},
   "outputs": [],
   "source": [
    "df_C_AUS_Sales.plot()"
   ]
  },
  {
   "cell_type": "code",
   "execution_count": null,
   "metadata": {},
   "outputs": [],
   "source": []
  },
  {
   "cell_type": "code",
   "execution_count": null,
   "metadata": {},
   "outputs": [],
   "source": []
  }
 ],
 "metadata": {
  "kernelspec": {
   "display_name": "Python 3",
   "language": "python",
   "name": "python3"
  },
  "language_info": {
   "codemirror_mode": {
    "name": "ipython",
    "version": 3
   },
   "file_extension": ".py",
   "mimetype": "text/x-python",
   "name": "python",
   "nbconvert_exporter": "python",
   "pygments_lexer": "ipython3",
   "version": "3.7.4"
  }
 },
 "nbformat": 4,
 "nbformat_minor": 2
}
